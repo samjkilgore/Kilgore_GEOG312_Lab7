{
 "cells": [
  {
   "cell_type": "markdown",
   "metadata": {},
   "source": [
    "[![image](https://colab.research.google.com/assets/colab-badge.svg)](https://colab.research.google.com/github/giswqs/geog-312/blob/master/labs/lab_07.ipynb)\n",
    "[![image](https://binder.pangeo.io/badge_logo.svg)](https://gishub.org/geog312-pangeo)\n",
    "\n",
    "**Sam Kilgore**"
   ]
  },
  {
   "cell_type": "code",
   "execution_count": null,
   "metadata": {},
   "outputs": [],
   "source": [
    "from datetime import datetime\n",
    "\n",
    "now = datetime.now()\n",
    "print(f\"Submitted time: {now}\")"
   ]
  },
  {
   "cell_type": "markdown",
   "metadata": {},
   "source": [
    "## Question 1\n",
    "**Learning Python:** Open a blank file in your text editor and write a few lines summarizing what you’ve learned about Python so far. Start each line with the phrase *In Python you can. . ..* Save the file as *learning_python.txt* in the same directory as your exercises from this chapter. Write a program that reads the file and prints what you wrote three times. Print the contents once by reading in the entire file, once by looping over the file object, and once by storing the lines in a list and then working with them outside the *with* block."
   ]
  },
  {
   "cell_type": "code",
   "execution_count": 1,
   "metadata": {},
   "outputs": [
    {
     "name": "stdout",
     "output_type": "stream",
     "text": [
      "In Python, you can perform operations over a list using a for loop.\n",
      "In Python, you can do anything you can do in a calculator.\n",
      "In Python, you can edit files.\n",
      "In Python, you can create graphs.\n",
      "\n",
      "\n",
      "Looping over the file object:\n",
      "In Python, you can perform operations over a list using a for loop.\n",
      "\n",
      "In Python, you can do anything you can do in a calculator.\n",
      "\n",
      "In Python, you can edit files.\n",
      "\n",
      "In Python, you can create graphs.\n",
      "\n",
      "\n",
      "Storing the lines in a list and then working with them outside the with block:\n",
      "In Python, you can perform operations over a list using a for loop.\n",
      "In Python, you can do anything you can do in a calculator.\n",
      "In Python, you can edit files.\n",
      "In Python, you can create graphs.\n"
     ]
    }
   ],
   "source": [
    "with open('learning_python.txt') as file_object:\n",
    "    contents = file_object.read()\n",
    "print(contents)\n",
    "print(\"\\n\")\n",
    "\n",
    "print(\"Looping over the file object:\")\n",
    "with open('learning_python.txt') as file_object:\n",
    "    for line in file_object:\n",
    "        print(line)\n",
    "print(\"\\n\")\n",
    "\n",
    "print(\"Storing the lines in a list and then working with them outside the with block:\")\n",
    "with open('learning_python.txt') as file_object:\n",
    "    lines = file_object.readlines()\n",
    "\n",
    "for line in lines:\n",
    "    print(line.rstrip())"
   ]
  },
  {
   "cell_type": "markdown",
   "metadata": {},
   "source": [
    "## Question 2\n",
    "**Learning C:** You can use the replace() method to replace any word in a string with a different word. Here’s a quick example showing how to replace 'dog' with 'cat' in a sentence:\n",
    "```\n",
    "message = \"I really like dogs.\"\n",
    "message.replace('dog', 'cat')\n",
    "'I really like cats.'\n",
    "```\n",
    "Read in each line from the file you just created, *learning_python.txt*, and replace the word *Python* with the name of another language, such as *C*. Print each modified line to the screen."
   ]
  },
  {
   "cell_type": "code",
   "execution_count": 2,
   "metadata": {},
   "outputs": [
    {
     "name": "stdout",
     "output_type": "stream",
     "text": [
      "In R, you can perform operations over a list using a for loop.\n",
      "\n",
      "In R, you can do anything you can do in a calculator.\n",
      "\n",
      "In R, you can edit files.\n",
      "\n",
      "In R, you can create graphs.\n"
     ]
    }
   ],
   "source": [
    "for line in lines:\n",
    "    line = line.replace('Python', 'R')\n",
    "    print(line)"
   ]
  },
  {
   "cell_type": "markdown",
   "metadata": {},
   "source": [
    "## Question 3\n",
    "**Guest:** Write a program that prompts the user for their name. When they respond, write their name to a file called guest.txt."
   ]
  },
  {
   "cell_type": "code",
   "execution_count": 3,
   "metadata": {},
   "outputs": [
    {
     "name": "stdout",
     "output_type": "stream",
     "text": [
      "What's your name? Sam\n"
     ]
    }
   ],
   "source": [
    "filename = \"guest.txt\"\n",
    "response = input(\"What's your name? \")\n",
    "with open(filename, 'w') as file_object:\n",
    "    file_object.write(response)"
   ]
  },
  {
   "cell_type": "markdown",
   "metadata": {},
   "source": [
    "## Question 4\n",
    "**Guest Book:** Write a while loop that prompts users for their name. When they enter their name, print a greeting to the screen and add a line recording their visit in a file called guest_book.txt. Make sure each entry appears on a new line in the file."
   ]
  },
  {
   "cell_type": "code",
   "execution_count": 9,
   "metadata": {},
   "outputs": [
    {
     "name": "stdout",
     "output_type": "stream",
     "text": [
      "What's your name? Sam\n",
      "Thank you for signing in, Sam. If you are the last person arriving, please enter 'q'. \n",
      "What's your name? JFK\n",
      "Thank you for signing in, Jfk. If you are the last person arriving, please enter 'q'. \n",
      "What's your name? Moon\n",
      "Thank you for signing in, Moon. If you are the last person arriving, please enter 'q'. \n",
      "What's your name? q\n"
     ]
    }
   ],
   "source": [
    "guest = \"\"\n",
    "names = []\n",
    "while guest != \"q\":\n",
    "    guest = input(\"What's your name? \")\n",
    "    if guest != \"q\":\n",
    "        print(f\"Thank you for signing in, {guest.title()}. If you are the last person arriving, please enter 'q'. \")\n",
    "        names.append(guest.title())\n",
    "\n",
    "filename = \"guest_book.txt\"\n",
    "with open(filename, 'w') as file_object:\n",
    "    for name in names:\n",
    "        file_object.write(f\"{name}\\n\")"
   ]
  },
  {
   "cell_type": "markdown",
   "metadata": {},
   "source": [
    "## Question 5\n",
    "**Programming Poll:** Write a while loop that asks people why they like programming. Each time someone enters a reason, add their reason to a file that stores all the responses."
   ]
  },
  {
   "cell_type": "code",
   "execution_count": 13,
   "metadata": {},
   "outputs": [
    {
     "name": "stdout",
     "output_type": "stream",
     "text": [
      "Why do you like programming? (If all responses have been recorded, enter 'q'.)I don't.\n",
      "Why do you like programming? (If all responses have been recorded, enter 'q'.)I want to make money after college.\n",
      "Why do you like programming? (If all responses have been recorded, enter 'q'.)What is coding?\n",
      "Why do you like programming? (If all responses have been recorded, enter 'q'.)q\n"
     ]
    }
   ],
   "source": [
    "filename = 'lab7q5.txt'\n",
    "with open(filename, 'a') as file_object:\n",
    "    response = []\n",
    "    while response != 'q':\n",
    "        response = input(\"Why do you like programming? (If all responses have been recorded, enter 'q'.)\")\n",
    "        if response == 'q':\n",
    "            break\n",
    "        file_object.write(f\"{response}\\n\")"
   ]
  },
  {
   "cell_type": "markdown",
   "metadata": {},
   "source": [
    "## Question 6\n",
    "**Addition:** One common problem when prompting for numerical input occurs when people provide text instead of numbers. When you try to convert the input to an int, you’ll get a ValueError. Write a program that prompts for two numbers. Add them together and print the result. Catch the ValueError if either input value is not a number, and print a friendly error message. Test your program by entering two numbers and then by entering some text instead of a number."
   ]
  },
  {
   "cell_type": "code",
   "execution_count": 24,
   "metadata": {},
   "outputs": [
    {
     "name": "stdout",
     "output_type": "stream",
     "text": [
      "Pick a number: 9\n",
      "Pick another number: -1000\n",
      "-991\n"
     ]
    }
   ],
   "source": [
    "try:\n",
    "    num1 = int(input(\"Pick a number: \"))\n",
    "    num2 = int(input(\"Pick another number: \"))\n",
    "except ValueError:\n",
    "    print(\"That doesn't work.\")\n",
    "else:\n",
    "    print(num1 + num2)"
   ]
  },
  {
   "cell_type": "markdown",
   "metadata": {},
   "source": [
    "## Question 7\n",
    "**Addition Calculator:** Wrap your code from Question 6 in a while loop so the user can continue entering numbers even if they make a mistake and enter text instead of a number."
   ]
  },
  {
   "cell_type": "code",
   "execution_count": null,
   "metadata": {},
   "outputs": [],
   "source": [
    "num1 = []\n",
    "num2 = []\n",
    "while num1 == [] or num2 == []:\n",
    "    try:\n",
    "        num1 = int(input(\"Pick a number: \"))\n",
    "    except ValueError:\n",
    "        print(\"That doesn't work. Please enter a number.\")\n",
    "    else:\n",
    "        try:\n",
    "            num2 = int(input(\"Pick another number: \"))\n",
    "        except ValueError:\n",
    "            print(\"That doesn't work. Please enter a number.\")\n",
    "        else:\n",
    "            print(num1 + num2)"
   ]
  },
  {
   "cell_type": "markdown",
   "metadata": {},
   "source": [
    "## Question 8\n",
    "**Cats and Dogs:** Make two files, *cats.txt* and *dogs.txt*. Store at least three names of cats in the first file and three names of dogs in the second file. Write a program that tries to read these files and print the contents of the file to the screen. Wrap your code in a `try-except` block to catch the `FileNotFound` error, and print a friendly message if a file is missing. Move one of the files to a different location on your system, and make sure the code in the `except` block executes properly."
   ]
  },
  {
   "cell_type": "code",
   "execution_count": 17,
   "metadata": {},
   "outputs": [
    {
     "name": "stdout",
     "output_type": "stream",
     "text": [
      "Moose\n",
      "OB\n",
      "Artie\n",
      "\n",
      "\n",
      "\n",
      "Clifford\n",
      "Jodie\n",
      "Moose\n",
      "\n"
     ]
    }
   ],
   "source": [
    "with open(\"cats.txt\", 'w') as file_object:\n",
    "    file_object.write(\"Moose\\n\")\n",
    "    file_object.write(\"OB\\n\")\n",
    "    file_object.write(\"Artie\\n\")\n",
    "with open(\"dogs.txt\", 'w') as file_object:\n",
    "    file_object.write(\"Clifford\\n\")\n",
    "    file_object.write(\"Jodie\\n\")\n",
    "    file_object.write(\"Moose\\n\")\n",
    "\n",
    "try:    \n",
    "    with open('cats.txt') as file_object:\n",
    "        contents_cats = file_object.read()\n",
    "    with open('dogs.txt') as file_object:\n",
    "        contents_dogs = file_object.read()\n",
    "except FileNotFoundError:\n",
    "    print(\"One of these files is missing.\")\n",
    "else:\n",
    "    print(contents_cats)\n",
    "    print(\"\\n\")\n",
    "    print(contents_dogs)"
   ]
  },
  {
   "cell_type": "markdown",
   "metadata": {},
   "source": [
    "## Question 9\n",
    "**Silent Cats and Dogs:** Modify your except block in Question 8 to fail silently if either file is missing."
   ]
  },
  {
   "cell_type": "code",
   "execution_count": 18,
   "metadata": {},
   "outputs": [
    {
     "name": "stdout",
     "output_type": "stream",
     "text": [
      "Moose\n",
      "OB\n",
      "Artie\n",
      "\n",
      "\n",
      "\n",
      "Clifford\n",
      "Jodie\n",
      "Moose\n",
      "\n"
     ]
    }
   ],
   "source": [
    "try:    \n",
    "    with open('cats.txt') as file_object:\n",
    "        contents_cats = file_object.read()\n",
    "    with open('dogs.txt') as file_object:\n",
    "        contents_dogs = file_object.read()\n",
    "except FileNotFoundError:\n",
    "    pass\n",
    "else:\n",
    "    print(contents_cats)\n",
    "    print(\"\\n\")\n",
    "    print(contents_dogs)"
   ]
  },
  {
   "cell_type": "markdown",
   "metadata": {},
   "source": [
    "## Question 10\n",
    "**Common Words:** Visit Project Gutenberg (https://gutenberg.org/) and find a few texts you’d like to analyze. Download the text files for these works, or copy the raw text from your browser into a text file on your computer. You can use the `count()` method to find out how many times a word or phrase appears in a string. For example, the following code counts the number of times 'row' appears in a string:"
   ]
  },
  {
   "cell_type": "code",
   "execution_count": 29,
   "metadata": {},
   "outputs": [
    {
     "data": {
      "text/plain": [
       "2"
      ]
     },
     "execution_count": 29,
     "metadata": {},
     "output_type": "execute_result"
    }
   ],
   "source": [
    "line = \"Row, row, row your boat\"\n",
    "line.count('row')"
   ]
  },
  {
   "cell_type": "code",
   "execution_count": 30,
   "metadata": {},
   "outputs": [
    {
     "data": {
      "text/plain": [
       "3"
      ]
     },
     "execution_count": 30,
     "metadata": {},
     "output_type": "execute_result"
    }
   ],
   "source": [
    "line.lower().count('row')"
   ]
  },
  {
   "cell_type": "markdown",
   "metadata": {},
   "source": [
    "Notice that converting the string to lowercase using lower() catches all appearances of the word you’re looking for, regardless of how it’s formatted.\n",
    "\n",
    "Write a program that reads the files you found at Project Gutenberg and determines how many times the word `the` appears in each text. This will be an approximation because it will also count words such as `then` and `there`. Try counting `the`, with a space in the string, and see how much lower your count is."
   ]
  },
  {
   "cell_type": "code",
   "execution_count": 46,
   "metadata": {},
   "outputs": [
    {
     "name": "stdout",
     "output_type": "stream",
     "text": [
      "Homer's The Odyssey has 'the' written approximately 12163 times.\n",
      "Homer's The Odyssey has 'the ', with a space, written approximately 6394 times.\n",
      "\n",
      "\n",
      "Winnie the Pooh has 'the' written approximately 1584 times.\n",
      "Winnie the Pooh has 'the ', with a space, written approximately 845 times.\n"
     ]
    }
   ],
   "source": [
    "with open(\"Homer's The Odyssey.txt\", encoding = \"utf-8\") as file_object:\n",
    "    contents = file_object.read()\n",
    "print(f\"Homer's The Odyssey has 'the' written approximately {contents.lower().count('the')} times.\")\n",
    "print(f\"Homer's The Odyssey has 'the ', with a space, written approximately {contents.lower().count('the ')} times.\")\n",
    "\n",
    "print(\"\\n\")\n",
    "with open(\"Winnie the Pooh.txt\", encoding = \"utf-8\") as file_object:\n",
    "    contents = file_object.read()\n",
    "print(f\"Winnie the Pooh has 'the' written approximately {contents.lower().count('the')} times.\")\n",
    "print(f\"Winnie the Pooh has 'the ', with a space, written approximately {contents.lower().count('the ')} times.\")"
   ]
  },
  {
   "cell_type": "markdown",
   "metadata": {},
   "source": [
    "## Question 11\n",
    "**Favorite Number:** Write a program that prompts for the user’s favorite number. Use `json.dump()` to store this number in a file. Write a separate program that reads in this value and prints the message, `I know your favorite number! It’s _____.`"
   ]
  },
  {
   "cell_type": "code",
   "execution_count": 49,
   "metadata": {
    "scrolled": true
   },
   "outputs": [
    {
     "name": "stdout",
     "output_type": "stream",
     "text": [
      "What's your favorite number?: 9\n",
      "I know your favorite number! It's 9.\n"
     ]
    }
   ],
   "source": [
    "import json\n",
    "\n",
    "number = int(input(\"What's your favorite number?: \"))\n",
    "\n",
    "filename = 'lab7q11.json'\n",
    "with open(filename, 'w') as f:\n",
    "    json.dump(number, f)\n",
    "\n",
    "with open(filename) as favorite_number:\n",
    "    print(f\"I know your favorite number! It's {json.load(favorite_number)}.\")"
   ]
  },
  {
   "cell_type": "markdown",
   "metadata": {},
   "source": [
    "## Question 12\n",
    "**Favorite Number Remembered:** Combine the two programs from Question 10 into one file. If the number is already stored, report the favorite number to the user. If not, prompt for the user’s favorite number and store it in a file. Run the program twice to see that it works."
   ]
  },
  {
   "cell_type": "code",
   "execution_count": 57,
   "metadata": {},
   "outputs": [
    {
     "name": "stdout",
     "output_type": "stream",
     "text": [
      "I know your favorite number! It's 0.\n"
     ]
    }
   ],
   "source": [
    "filename = 'lab7q11.json'\n",
    "try:\n",
    "    with open(filename) as f:\n",
    "        number = json.load(f)\n",
    "except FileNotFoundError:\n",
    "    number = int(input(\"What's your favorite number?: \"))\n",
    "    filename = 'lab7q11.json'\n",
    "    with open(filename, 'w') as f:\n",
    "        json.dump(number, f)\n",
    "else:\n",
    "    print(f\"I know your favorite number! It's {number}.\")"
   ]
  }
 ],
 "metadata": {
  "kernelspec": {
   "display_name": "Python 3 (ipykernel)",
   "language": "python",
   "name": "python3"
  },
  "language_info": {
   "codemirror_mode": {
    "name": "ipython",
    "version": 3
   },
   "file_extension": ".py",
   "mimetype": "text/x-python",
   "name": "python",
   "nbconvert_exporter": "python",
   "pygments_lexer": "ipython3",
   "version": "3.11.4"
  }
 },
 "nbformat": 4,
 "nbformat_minor": 4
}
